{
  "nbformat": 4,
  "nbformat_minor": 0,
  "metadata": {
    "colab": {
      "name": "Chord-P2P_Distributed_hash_Table.ipynb",
      "version": "0.3.2",
      "provenance": [],
      "collapsed_sections": []
    },
    "kernelspec": {
      "name": "python3",
      "display_name": "Python 3"
    }
  },
  "cells": [
    {
      "metadata": {
        "id": "4oIQmtbMWIcx",
        "colab_type": "code",
        "colab": {}
      },
      "cell_type": "code",
      "source": [
        "import numpy as np\n",
        "\n",
        "#Initialize identifier value\n",
        "\n",
        "m=3 # ie- values will range from 0 to 7\n",
        "\n",
        "# here we are considering direct values without sha-1 encryption for easy verification of our work\n",
        "\n",
        "global identifier_circle# maintained for joining two nodes\n",
        "\n",
        "identifier_circle=[]"
      ],
      "execution_count": 0,
      "outputs": []
    },
    {
      "metadata": {
        "id": "a3HMBnfHXCie",
        "colab_type": "code",
        "colab": {}
      },
      "cell_type": "code",
      "source": [
        "# define basic structure of a node \n",
        "\n",
        "class Node:\n",
        "    def __init__(self,id):\n",
        "      self.id=id\n",
        "      self.predecessor=None\n",
        "      self.finger_table=[]  #max m entries in finger table ;contains pair(start_id,succ node)\n",
        "      self.keys=[]"
      ],
      "execution_count": 0,
      "outputs": []
    },
    {
      "metadata": {
        "id": "DhstNfMoZhSB",
        "colab_type": "code",
        "colab": {}
      },
      "cell_type": "code",
      "source": [
        "#Functionality1-----------finding the successor node of an identifier   O(log n) complexity\n",
        "\n",
        "#successor of a node\n",
        "\n",
        "def successor(x):\n",
        "  return x.finger_table[0][1]\n",
        "\n",
        "#Find id’s successor by finding the immediate predecessor of the id\n",
        "\n",
        "def find_predecessor(node,id):\n",
        "  x=node\n",
        "  #while( not((x.id < id and successor(x).id >= id) or (successor(x).id <= id and x.id < id))):\n",
        "  while( not((x.id < id and successor(x).id >= id) or (successor(x).id <= x.id and (id <= successor(x).id or id > x.id)) ) ):\n",
        "    x=closest_preceding_finger(x,id)\n",
        "    print(x.id)\n",
        "  return x\n",
        "\n",
        "#Start with the mth finger of node n See if it comes between node n and the id, if not, check the m-1th finger until we find one wich does.\n",
        "#This is the closest node preceding id among all the fingers of n\n",
        "\n",
        "def closest_preceding_finger(node,id):\n",
        "  for i in range(m-1,-1,-1):\n",
        "    if((node.id<node.finger_table[i][1].id and node.finger_table[i][1].id<id) or (node.id>=id and (node.finger_table[i][1].id>node.id or node.finger_table[i][1].id<id)) ):\n",
        "      return node.finger_table[i][1]\n",
        "  return node\n",
        "  \n",
        "\n",
        "  # returns id of node where key with given id can be found\n",
        "def find_successor(node,id):\n",
        "  x=find_predecessor(node,id)\n",
        "  return successor(x)\n",
        "  "
      ],
      "execution_count": 0,
      "outputs": []
    },
    {
      "metadata": {
        "id": "apc2oFz7ZYOY",
        "colab_type": "code",
        "colab": {}
      },
      "cell_type": "code",
      "source": [
        "#Functionality2....... display the contents of a node in the hash table\n",
        "\n",
        "def diplay_node_contents(id):\n",
        "  \n",
        "  global identifier_circle\n",
        "  \n",
        "  for i in range(len(identifier_circle)):\n",
        "    if (identifier_circle[i][0]==id):\n",
        "      node=identifier_circle[i][1]\n",
        "  \n",
        "  print(\"keys stored are.....\")\n",
        "  for i in range(len(node.keys)):\n",
        "    print(node.keys[i])\n",
        "    \n",
        "  print(\"id is:\")\n",
        "  print(node.id)\n",
        "  \n",
        "  print(\"predecessor is:\")\n",
        "  print(node.predecessor)\n",
        "  \n",
        "  print(\"finger table is:\")\n",
        "    \n",
        "  for i in range(m):\n",
        "    print(\"index:\"+str(i),\"start\"+str(node.finger_table[i][0]),node.finger_table[i][1])\n",
        "  "
      ],
      "execution_count": 0,
      "outputs": []
    },
    {
      "metadata": {
        "id": "K91luTckzf_Q",
        "colab_type": "code",
        "colab": {}
      },
      "cell_type": "code",
      "source": [
        "#allocate keys to the appropriate node\n",
        "\n",
        "def allocate_key(id):\n",
        "  \n",
        "  global identifier_circle\n",
        "  flag=0\n",
        "  for i in range(len(identifier_circle)):\n",
        "    if(identifier_circle[i][0]>=id):\n",
        "      identifier_circle[i][1].keys.append(id)\n",
        "      flag=1\n",
        "      break\n",
        "  if(flag==0):\n",
        "    identifier_circle[len(identifier_circle)-1][1].keys.append(id)\n",
        "    \n",
        "      "
      ],
      "execution_count": 0,
      "outputs": []
    },
    {
      "metadata": {
        "id": "5FnNgH90k6r5",
        "colab_type": "code",
        "colab": {}
      },
      "cell_type": "code",
      "source": [
        "# Functionality3......joining of a new node into the network            O (log**2 n) Complexity\n",
        "\n",
        "#initialize finger table of local node n\n",
        "\n",
        "def init_finger_table(x,y):\n",
        "  \n",
        "  start_1=(x.id+1)%(2**m)\n",
        "  second=find_successor(y,start_1)\n",
        "  x.finger_table.append((start_1,second))\n",
        "  x.predecessor=x.finger_table[0][1].predecessor\n",
        "  x.finger_table[0][1].predecessor=x\n",
        "  \n",
        "  for i in range(1,m):\n",
        "    start_x=(x.id+(2**i))%(2**m)\n",
        "    #if start belong to [n, finger[i-1].id)\n",
        "    if( (start_x>=x.id and start_x<x.finger_table[i-1][1].id) or (x.id>=x.finger_table[i-1][1].id and (start_x>=x.id or start_x<x.finger_table[i-1][1].id)) ):\n",
        "      sec=x.finger_table[i-1][1]\n",
        "      x.finger_table.append((start_x,sec))\n",
        "      \n",
        "    else:\n",
        "      sec=find_successor(y,start_x)\n",
        "      x.finger_table.append((start_x,sec))\n",
        "      \n",
        "      \n",
        "\n",
        "\n",
        "# if s is the ith finger of n ,update n's finger table with s\n",
        "def update_finger_table(n,s,i):\n",
        "   print(str(n.id) + \" \" + str(s.id) + \" \" + str(i))\n",
        "#    if(s.id>=n.id and s.id<n.finger_table[i][1].id):\n",
        "   if((s.id>=n.id and s.id<n.finger_table[i][1].id) or (n.id>=n.finger_table[i][1].id and (s.id>=n.id or s.id < n.finger_table[i][1].id)) ):\n",
        "    n.finger_table[i]=(n.finger_table[i][0],s)\n",
        "    p=n.predecessor  #first node recedeing n\n",
        "    update_finger_table(p,s,i)\n",
        "  \n",
        "#update all finger nodes whose finger table should refer to n\n",
        "def update_others(node):\n",
        "  \n",
        "  for i in range(0,m):\n",
        "    p=find_predecessor(node, node.id-(2**i)) # find last node p whose ith finger may be n\n",
        "    update_finger_table(p,node,i)\n",
        "    \n",
        "  \n",
        "\n",
        "\n",
        "def join_nodes(x,y):\n",
        "  \n",
        "  init_finger_table(x,y)\n",
        "  update_others(x)\n",
        "  #move keys in (predecessor,n] from successor\n",
        "  \n",
        "\n",
        "def join(id):\n",
        "  \n",
        "  global identifier_circle\n",
        "  \n",
        "  x=Node(id)  # create node with given id\n",
        "  identifier_circle.append((id,x))\n",
        "  sort_list=sorted(identifier_circle,key=lambda x:x[0])\n",
        "  identifier_circle=sort_list\n",
        "  \n",
        "  length=len(identifier_circle)\n",
        "  \n",
        "  if(length==1):    # n is the only node in the network\n",
        "    for i in range(0,m):\n",
        "      start=(x.id+(2**i))%(2**m)\n",
        "      x.finger_table.append((start,x))\n",
        "    x.predecessor=x\n",
        "    \n",
        "  elif length==2:\n",
        "    y=identifier_circle[0][1] #first node\n",
        "    for i in range(0,m):\n",
        "      start=(x.id+(2**i))%(2**m)\n",
        "      x.finger_table.append((start,y)) #set every entry to first node\n",
        "    x.predecessor=y\n",
        "    for i in range(0,m):\n",
        "      start=(y.id+(2**i))%(2**m)\n",
        "      y.finger_table[i]=(start, x)  #set every entry of 1st node = second node\n",
        "    y.predecessor=x\n",
        "  \n",
        "  else:\n",
        "    y=identifier_circle[0][1]    #select random node apart form node\n",
        "    join_nodes(x,y)\n",
        "  "
      ],
      "execution_count": 0,
      "outputs": []
    },
    {
      "metadata": {
        "id": "dK8LleWVBdiI",
        "colab_type": "code",
        "colab": {}
      },
      "cell_type": "code",
      "source": [
        "# Functionality 4 ----system stabilization\n",
        "\n",
        "# set a time interval of 2 sec and perform stabilize action periodically\n",
        "\n",
        "def stabilize(node): # periodically verify n's immediate successor and tell the successsor about n\n",
        "  \n",
        "  successor=node.finger_table[0][1]\n",
        "  x=successor.predecessor\n",
        "  if(node.id<x.id and x.id<successor.id):\n",
        "    node.finger_table[0][1]=x\n",
        "    notify(x,node)\n",
        "    \n",
        "    \n",
        "def notify(n,n1): #n1 thinks it might be our predecessor\n",
        "  \n",
        "  if(n.predecessor==None or (n.predecessor.id <n1.id and n1.id<n.id)):\n",
        "    n.predecessor=n1\n",
        "    \n",
        "    \n",
        "    \n",
        "def fix_fingers(node):  #periodically refresh finger entries\n",
        "  \n",
        "  for i in range(m):\n",
        "    node.finger_table[i]=(node.finger_table[i][0], find_successor(node,node.finger_table[i][0]))\n",
        "  \n",
        "  \n",
        "  \n",
        "    \n",
        "    \n",
        "    "
      ],
      "execution_count": 0,
      "outputs": []
    },
    {
      "metadata": {
        "id": "_7yLw8N4Onti",
        "colab_type": "code",
        "colab": {}
      },
      "cell_type": "code",
      "source": [
        "join(1)"
      ],
      "execution_count": 0,
      "outputs": []
    },
    {
      "metadata": {
        "id": "j7iYUddX9cF0",
        "colab_type": "code",
        "colab": {}
      },
      "cell_type": "code",
      "source": [
        "allocate_key(1)"
      ],
      "execution_count": 0,
      "outputs": []
    },
    {
      "metadata": {
        "id": "ZmsmPS4XdUDl",
        "colab_type": "code",
        "colab": {}
      },
      "cell_type": "code",
      "source": [
        "join(7)"
      ],
      "execution_count": 0,
      "outputs": []
    },
    {
      "metadata": {
        "id": "70mHKBJfwOn8",
        "colab_type": "code",
        "colab": {}
      },
      "cell_type": "code",
      "source": [
        "allocate_key(7)"
      ],
      "execution_count": 0,
      "outputs": []
    },
    {
      "metadata": {
        "id": "_U3woQvC6mWj",
        "colab_type": "code",
        "colab": {
          "base_uri": "https://localhost:8080/",
          "height": 153
        },
        "outputId": "657ca871-6a56-4191-a1d6-80f71a2da39a"
      },
      "cell_type": "code",
      "source": [
        "join(3)"
      ],
      "execution_count": 12,
      "outputs": [
        {
          "output_type": "stream",
          "text": [
            "7\n",
            "1\n",
            "1 3 0\n",
            "7 3 0\n",
            "7\n",
            "7 3 1\n",
            "7\n",
            "7 3 2\n"
          ],
          "name": "stdout"
        }
      ]
    },
    {
      "metadata": {
        "id": "PA-dPKZ_6qTv",
        "colab_type": "code",
        "colab": {}
      },
      "cell_type": "code",
      "source": [
        "allocate_key(3)"
      ],
      "execution_count": 0,
      "outputs": []
    },
    {
      "metadata": {
        "id": "2N8vwxw75vOH",
        "colab_type": "code",
        "colab": {
          "base_uri": "https://localhost:8080/",
          "height": 544
        },
        "outputId": "4f2ca5c6-f2de-4d41-b4ea-bee92d989051"
      },
      "cell_type": "code",
      "source": [
        "print(identifier_circle)\n",
        "diplay_node_contents(1)\n",
        "diplay_node_contents(3)\n",
        "diplay_node_contents(7)\n",
        "# x = find_successor(identifier_circle[0][1], 2)\n",
        "# print(x.id)  "
      ],
      "execution_count": 15,
      "outputs": [
        {
          "output_type": "stream",
          "text": [
            "[(1, <__main__.Node object at 0x7faf1bc54d30>), (3, <__main__.Node object at 0x7faf1bc54be0>), (7, <__main__.Node object at 0x7faf1bc54eb8>)]\n",
            "keys stored are.....\n",
            "1\n",
            "id is:\n",
            "1\n",
            "predecessor is:\n",
            "<__main__.Node object at 0x7faf1bc54eb8>\n",
            "finger table is:\n",
            "index:0 start2 <__main__.Node object at 0x7faf1bc54be0>\n",
            "index:1 start3 <__main__.Node object at 0x7faf1bc54eb8>\n",
            "index:2 start5 <__main__.Node object at 0x7faf1bc54eb8>\n",
            "keys stored are.....\n",
            "3\n",
            "id is:\n",
            "3\n",
            "predecessor is:\n",
            "<__main__.Node object at 0x7faf1bc54d30>\n",
            "finger table is:\n",
            "index:0 start4 <__main__.Node object at 0x7faf1bc54eb8>\n",
            "index:1 start5 <__main__.Node object at 0x7faf1bc54eb8>\n",
            "index:2 start7 <__main__.Node object at 0x7faf1bc54eb8>\n",
            "keys stored are.....\n",
            "7\n",
            "id is:\n",
            "7\n",
            "predecessor is:\n",
            "<__main__.Node object at 0x7faf1bc54be0>\n",
            "finger table is:\n",
            "index:0 start0 <__main__.Node object at 0x7faf1bc54d30>\n",
            "index:1 start1 <__main__.Node object at 0x7faf1bc54d30>\n",
            "index:2 start3 <__main__.Node object at 0x7faf1bc54d30>\n"
          ],
          "name": "stdout"
        }
      ]
    },
    {
      "metadata": {
        "id": "sr7tPVBUA8TL",
        "colab_type": "code",
        "colab": {
          "base_uri": "https://localhost:8080/",
          "height": 51
        },
        "outputId": "7abcaa9b-66cb-483f-d146-ca803ffc950e"
      },
      "cell_type": "code",
      "source": [
        "find_successor(identifier_circle[1][1],3)"
      ],
      "execution_count": 15,
      "outputs": [
        {
          "output_type": "stream",
          "text": [
            "1\n"
          ],
          "name": "stdout"
        },
        {
          "output_type": "execute_result",
          "data": {
            "text/plain": [
              "<__main__.Node at 0x7feef15ef978>"
            ]
          },
          "metadata": {
            "tags": []
          },
          "execution_count": 15
        }
      ]
    },
    {
      "metadata": {
        "id": "gTm8FTbv-wyN",
        "colab_type": "code",
        "colab": {
          "base_uri": "https://localhost:8080/",
          "height": 187
        },
        "outputId": "5b91cf89-920e-4f39-c61a-983812f5ece1"
      },
      "cell_type": "code",
      "source": [
        "join(4)"
      ],
      "execution_count": 16,
      "outputs": [
        {
          "output_type": "stream",
          "text": [
            "3\n",
            "3\n",
            "6\n",
            "1\n",
            "1 4 0\n",
            "1\n",
            "1 4 1\n",
            "6 4 1\n",
            "6\n",
            "6 4 2\n"
          ],
          "name": "stdout"
        }
      ]
    },
    {
      "metadata": {
        "id": "6X6dIU__CwvE",
        "colab_type": "code",
        "colab": {}
      },
      "cell_type": "code",
      "source": [
        "allocate_key(4)"
      ],
      "execution_count": 0,
      "outputs": []
    },
    {
      "metadata": {
        "id": "lkPuqn4HCz6j",
        "colab_type": "code",
        "colab": {
          "base_uri": "https://localhost:8080/",
          "height": 734
        },
        "outputId": "3c163b2f-6a3c-4951-d81c-dcd3286c34a3"
      },
      "cell_type": "code",
      "source": [
        "print(identifier_circle)\n",
        "diplay_node_contents(1)\n",
        "diplay_node_contents(3)\n",
        "diplay_node_contents(4)\n",
        "diplay_node_contents(6)"
      ],
      "execution_count": 18,
      "outputs": [
        {
          "output_type": "stream",
          "text": [
            "[(1, <__main__.Node object at 0x7feef15ef400>), (3, <__main__.Node object at 0x7feef15ef978>), (4, <__main__.Node object at 0x7feef15ef198>), (6, <__main__.Node object at 0x7feef15ef9e8>)]\n",
            "keys stored are.....\n",
            "1\n",
            "id is:\n",
            "1\n",
            "predecessor is:\n",
            "<__main__.Node object at 0x7feef15ef9e8>\n",
            "finger table is:\n",
            "index:0 start2 <__main__.Node object at 0x7feef15ef978>\n",
            "index:1 start3 <__main__.Node object at 0x7feef15ef198>\n",
            "index:2 start5 <__main__.Node object at 0x7feef15ef9e8>\n",
            "keys stored are.....\n",
            "3\n",
            "id is:\n",
            "3\n",
            "predecessor is:\n",
            "<__main__.Node object at 0x7feef15ef400>\n",
            "finger table is:\n",
            "index:0 start4 <__main__.Node object at 0x7feef15ef9e8>\n",
            "index:1 start5 <__main__.Node object at 0x7feef15ef9e8>\n",
            "index:2 start7 <__main__.Node object at 0x7feef15ef400>\n",
            "keys stored are.....\n",
            "4\n",
            "id is:\n",
            "4\n",
            "predecessor is:\n",
            "<__main__.Node object at 0x7feef15ef978>\n",
            "finger table is:\n",
            "index:0 start5 <__main__.Node object at 0x7feef15ef9e8>\n",
            "index:1 start6 <__main__.Node object at 0x7feef15ef9e8>\n",
            "index:2 start0 <__main__.Node object at 0x7feef15ef400>\n",
            "keys stored are.....\n",
            "6\n",
            "id is:\n",
            "6\n",
            "predecessor is:\n",
            "<__main__.Node object at 0x7feef15ef198>\n",
            "finger table is:\n",
            "index:0 start7 <__main__.Node object at 0x7feef15ef400>\n",
            "index:1 start0 <__main__.Node object at 0x7feef15ef400>\n",
            "index:2 start2 <__main__.Node object at 0x7feef15ef400>\n"
          ],
          "name": "stdout"
        }
      ]
    },
    {
      "metadata": {
        "id": "rbt5XQF4GxCM",
        "colab_type": "code",
        "colab": {
          "base_uri": "https://localhost:8080/",
          "height": 51
        },
        "outputId": "ce687b2d-4c52-482a-9b46-b154bfd4e512"
      },
      "cell_type": "code",
      "source": [
        "find_successor(identifier_circle[3][1], 2)"
      ],
      "execution_count": 21,
      "outputs": [
        {
          "output_type": "stream",
          "text": [
            "1\n"
          ],
          "name": "stdout"
        },
        {
          "output_type": "execute_result",
          "data": {
            "text/plain": [
              "<__main__.Node at 0x7feef15ef978>"
            ]
          },
          "metadata": {
            "tags": []
          },
          "execution_count": 21
        }
      ]
    },
    {
      "metadata": {
        "id": "r-pH_DB9BXx6",
        "colab_type": "code",
        "colab": {
          "base_uri": "https://localhost:8080/",
          "height": 85
        },
        "outputId": "6c5d29fe-38a8-4e91-e727-b24dab759deb"
      },
      "cell_type": "code",
      "source": [
        "#calling network stabilization \n",
        "\n",
        "# import time \n",
        "\n",
        "# while(True):\n",
        "  \n",
        "#   for i in range(len(identifier_circle)):\n",
        "#     stabilize(identifier_circle[i][1])\n",
        "#     time.sleep(1)\n",
        "\n",
        "# #calling fix_fingers periodically\n",
        "\n",
        "# while(True):\n",
        "  \n",
        "  for i in range(len(identifier_circle)):\n",
        "    fix_fingers(identifier_circle[i][1])\n",
        "#     time.sleep(3)\n",
        "\n",
        "    "
      ],
      "execution_count": 19,
      "outputs": [
        {
          "output_type": "stream",
          "text": [
            "3\n",
            "6\n",
            "6\n",
            "1\n"
          ],
          "name": "stdout"
        }
      ]
    }
  ]
}